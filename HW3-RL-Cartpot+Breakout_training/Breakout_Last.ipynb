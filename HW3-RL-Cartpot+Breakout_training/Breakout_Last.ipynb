{
  "cells": [
    {
      "cell_type": "markdown",
      "metadata": {
        "id": "HpPXjF4Xdwuk"
      },
      "source": [
        "# Deep Q-Network for Atari Breakout.\n",
        "\n",
        "In this assignment you are required to implement a Deep Q-Network agent, for the Atari game Breakout.\n",
        "\n",
        "You need to submit your code, along with a plot of the rewards during training, and a video of an episode with the trained agent.\n"
      ]
    },
    {
      "cell_type": "markdown",
      "source": [
        "**Submitters:**\n",
        "\n",
        "Najah Kamal - 325829133\n",
        "\n",
        "Salam Qais - 327876116"
      ],
      "metadata": {
        "id": "8gC8dZI6dG6S"
      }
    },
    {
      "cell_type": "markdown",
      "metadata": {
        "id": "dWEpKsGXdwup"
      },
      "source": [
        "__Frameworks__ - we'll accept this homework in any deep learning framework. This particular notebook was designed for PyTorch, but you'll find it easy to adapt it to almost any Python-based deep learning framework."
      ]
    },
    {
      "cell_type": "code",
      "execution_count": 81,
      "metadata": {
        "colab": {
          "base_uri": "https://localhost:8080/"
        },
        "id": "8A9SjGmKhLPY",
        "outputId": "3e2f4aba-fd7d-4e90-b623-36abaf52c416"
      },
      "outputs": [
        {
          "output_type": "stream",
          "name": "stdout",
          "text": [
            "Requirement already satisfied: setuptools==65.5.0 in /usr/local/lib/python3.10/dist-packages (65.5.0)\n",
            "Requirement already satisfied: wheel<0.40.0 in /usr/local/lib/python3.10/dist-packages (0.38.4)\n",
            "Requirement already satisfied: stable-baselines3[extra] in /usr/local/lib/python3.10/dist-packages (1.8.0)\n",
            "Requirement already satisfied: ale-py==0.7.4 in /usr/local/lib/python3.10/dist-packages (0.7.4)\n",
            "Requirement already satisfied: gym==0.21.0 in /usr/local/lib/python3.10/dist-packages (0.21.0)\n",
            "Requirement already satisfied: numpy in /usr/local/lib/python3.10/dist-packages (from ale-py==0.7.4) (1.25.2)\n",
            "Requirement already satisfied: importlib-resources in /usr/local/lib/python3.10/dist-packages (from ale-py==0.7.4) (6.4.0)\n",
            "Requirement already satisfied: cloudpickle>=1.2.0 in /usr/local/lib/python3.10/dist-packages (from gym==0.21.0) (2.2.1)\n",
            "Requirement already satisfied: torch>=1.11 in /usr/local/lib/python3.10/dist-packages (from stable-baselines3[extra]) (2.2.1+cu121)\n",
            "Requirement already satisfied: pandas in /usr/local/lib/python3.10/dist-packages (from stable-baselines3[extra]) (1.5.3)\n",
            "Requirement already satisfied: matplotlib in /usr/local/lib/python3.10/dist-packages (from stable-baselines3[extra]) (3.7.1)\n",
            "Requirement already satisfied: importlib-metadata~=4.13 in /usr/local/lib/python3.10/dist-packages (from stable-baselines3[extra]) (4.13.0)\n",
            "Requirement already satisfied: opencv-python in /usr/local/lib/python3.10/dist-packages (from stable-baselines3[extra]) (4.8.0.76)\n",
            "Requirement already satisfied: tensorboard>=2.9.1 in /usr/local/lib/python3.10/dist-packages (from stable-baselines3[extra]) (2.15.2)\n",
            "Requirement already satisfied: psutil in /usr/local/lib/python3.10/dist-packages (from stable-baselines3[extra]) (5.9.5)\n",
            "Requirement already satisfied: tqdm in /usr/local/lib/python3.10/dist-packages (from stable-baselines3[extra]) (4.66.2)\n",
            "Requirement already satisfied: rich in /usr/local/lib/python3.10/dist-packages (from stable-baselines3[extra]) (13.7.1)\n",
            "Requirement already satisfied: pillow in /usr/local/lib/python3.10/dist-packages (from stable-baselines3[extra]) (9.4.0)\n",
            "Requirement already satisfied: autorom[accept-rom-license]~=0.6.0 in /usr/local/lib/python3.10/dist-packages (from stable-baselines3[extra]) (0.6.1)\n",
            "Requirement already satisfied: click in /usr/local/lib/python3.10/dist-packages (from autorom[accept-rom-license]~=0.6.0->stable-baselines3[extra]) (8.1.7)\n",
            "Requirement already satisfied: requests in /usr/local/lib/python3.10/dist-packages (from autorom[accept-rom-license]~=0.6.0->stable-baselines3[extra]) (2.31.0)\n",
            "Requirement already satisfied: AutoROM.accept-rom-license in /usr/local/lib/python3.10/dist-packages (from autorom[accept-rom-license]~=0.6.0->stable-baselines3[extra]) (0.6.1)\n",
            "Requirement already satisfied: zipp>=0.5 in /usr/local/lib/python3.10/dist-packages (from importlib-metadata~=4.13->stable-baselines3[extra]) (3.18.1)\n",
            "Requirement already satisfied: absl-py>=0.4 in /usr/local/lib/python3.10/dist-packages (from tensorboard>=2.9.1->stable-baselines3[extra]) (1.4.0)\n",
            "Requirement already satisfied: grpcio>=1.48.2 in /usr/local/lib/python3.10/dist-packages (from tensorboard>=2.9.1->stable-baselines3[extra]) (1.62.1)\n",
            "Requirement already satisfied: google-auth<3,>=1.6.3 in /usr/local/lib/python3.10/dist-packages (from tensorboard>=2.9.1->stable-baselines3[extra]) (2.27.0)\n",
            "Requirement already satisfied: google-auth-oauthlib<2,>=0.5 in /usr/local/lib/python3.10/dist-packages (from tensorboard>=2.9.1->stable-baselines3[extra]) (1.2.0)\n",
            "Requirement already satisfied: markdown>=2.6.8 in /usr/local/lib/python3.10/dist-packages (from tensorboard>=2.9.1->stable-baselines3[extra]) (3.6)\n",
            "Requirement already satisfied: protobuf!=4.24.0,>=3.19.6 in /usr/local/lib/python3.10/dist-packages (from tensorboard>=2.9.1->stable-baselines3[extra]) (3.20.3)\n",
            "Requirement already satisfied: setuptools>=41.0.0 in /usr/local/lib/python3.10/dist-packages (from tensorboard>=2.9.1->stable-baselines3[extra]) (65.5.0)\n",
            "Requirement already satisfied: six>1.9 in /usr/local/lib/python3.10/dist-packages (from tensorboard>=2.9.1->stable-baselines3[extra]) (1.16.0)\n",
            "Requirement already satisfied: tensorboard-data-server<0.8.0,>=0.7.0 in /usr/local/lib/python3.10/dist-packages (from tensorboard>=2.9.1->stable-baselines3[extra]) (0.7.2)\n",
            "Requirement already satisfied: werkzeug>=1.0.1 in /usr/local/lib/python3.10/dist-packages (from tensorboard>=2.9.1->stable-baselines3[extra]) (3.0.1)\n",
            "Requirement already satisfied: filelock in /usr/local/lib/python3.10/dist-packages (from torch>=1.11->stable-baselines3[extra]) (3.13.3)\n",
            "Requirement already satisfied: typing-extensions>=4.8.0 in /usr/local/lib/python3.10/dist-packages (from torch>=1.11->stable-baselines3[extra]) (4.10.0)\n",
            "Requirement already satisfied: sympy in /usr/local/lib/python3.10/dist-packages (from torch>=1.11->stable-baselines3[extra]) (1.12)\n",
            "Requirement already satisfied: networkx in /usr/local/lib/python3.10/dist-packages (from torch>=1.11->stable-baselines3[extra]) (3.2.1)\n",
            "Requirement already satisfied: jinja2 in /usr/local/lib/python3.10/dist-packages (from torch>=1.11->stable-baselines3[extra]) (3.1.3)\n",
            "Requirement already satisfied: fsspec in /usr/local/lib/python3.10/dist-packages (from torch>=1.11->stable-baselines3[extra]) (2023.6.0)\n",
            "Requirement already satisfied: nvidia-cuda-nvrtc-cu12==12.1.105 in /usr/local/lib/python3.10/dist-packages (from torch>=1.11->stable-baselines3[extra]) (12.1.105)\n",
            "Requirement already satisfied: nvidia-cuda-runtime-cu12==12.1.105 in /usr/local/lib/python3.10/dist-packages (from torch>=1.11->stable-baselines3[extra]) (12.1.105)\n",
            "Requirement already satisfied: nvidia-cuda-cupti-cu12==12.1.105 in /usr/local/lib/python3.10/dist-packages (from torch>=1.11->stable-baselines3[extra]) (12.1.105)\n",
            "Requirement already satisfied: nvidia-cudnn-cu12==8.9.2.26 in /usr/local/lib/python3.10/dist-packages (from torch>=1.11->stable-baselines3[extra]) (8.9.2.26)\n",
            "Requirement already satisfied: nvidia-cublas-cu12==12.1.3.1 in /usr/local/lib/python3.10/dist-packages (from torch>=1.11->stable-baselines3[extra]) (12.1.3.1)\n",
            "Requirement already satisfied: nvidia-cufft-cu12==11.0.2.54 in /usr/local/lib/python3.10/dist-packages (from torch>=1.11->stable-baselines3[extra]) (11.0.2.54)\n",
            "Requirement already satisfied: nvidia-curand-cu12==10.3.2.106 in /usr/local/lib/python3.10/dist-packages (from torch>=1.11->stable-baselines3[extra]) (10.3.2.106)\n",
            "Requirement already satisfied: nvidia-cusolver-cu12==11.4.5.107 in /usr/local/lib/python3.10/dist-packages (from torch>=1.11->stable-baselines3[extra]) (11.4.5.107)\n",
            "Requirement already satisfied: nvidia-cusparse-cu12==12.1.0.106 in /usr/local/lib/python3.10/dist-packages (from torch>=1.11->stable-baselines3[extra]) (12.1.0.106)\n",
            "Requirement already satisfied: nvidia-nccl-cu12==2.19.3 in /usr/local/lib/python3.10/dist-packages (from torch>=1.11->stable-baselines3[extra]) (2.19.3)\n",
            "Requirement already satisfied: nvidia-nvtx-cu12==12.1.105 in /usr/local/lib/python3.10/dist-packages (from torch>=1.11->stable-baselines3[extra]) (12.1.105)\n",
            "Requirement already satisfied: triton==2.2.0 in /usr/local/lib/python3.10/dist-packages (from torch>=1.11->stable-baselines3[extra]) (2.2.0)\n",
            "Requirement already satisfied: nvidia-nvjitlink-cu12 in /usr/local/lib/python3.10/dist-packages (from nvidia-cusolver-cu12==11.4.5.107->torch>=1.11->stable-baselines3[extra]) (12.4.99)\n",
            "Requirement already satisfied: contourpy>=1.0.1 in /usr/local/lib/python3.10/dist-packages (from matplotlib->stable-baselines3[extra]) (1.2.0)\n",
            "Requirement already satisfied: cycler>=0.10 in /usr/local/lib/python3.10/dist-packages (from matplotlib->stable-baselines3[extra]) (0.12.1)\n",
            "Requirement already satisfied: fonttools>=4.22.0 in /usr/local/lib/python3.10/dist-packages (from matplotlib->stable-baselines3[extra]) (4.50.0)\n",
            "Requirement already satisfied: kiwisolver>=1.0.1 in /usr/local/lib/python3.10/dist-packages (from matplotlib->stable-baselines3[extra]) (1.4.5)\n",
            "Requirement already satisfied: packaging>=20.0 in /usr/local/lib/python3.10/dist-packages (from matplotlib->stable-baselines3[extra]) (24.0)\n",
            "Requirement already satisfied: pyparsing>=2.3.1 in /usr/local/lib/python3.10/dist-packages (from matplotlib->stable-baselines3[extra]) (3.1.2)\n",
            "Requirement already satisfied: python-dateutil>=2.7 in /usr/local/lib/python3.10/dist-packages (from matplotlib->stable-baselines3[extra]) (2.8.2)\n",
            "Requirement already satisfied: pytz>=2020.1 in /usr/local/lib/python3.10/dist-packages (from pandas->stable-baselines3[extra]) (2023.4)\n",
            "Requirement already satisfied: markdown-it-py>=2.2.0 in /usr/local/lib/python3.10/dist-packages (from rich->stable-baselines3[extra]) (3.0.0)\n",
            "Requirement already satisfied: pygments<3.0.0,>=2.13.0 in /usr/local/lib/python3.10/dist-packages (from rich->stable-baselines3[extra]) (2.16.1)\n",
            "Requirement already satisfied: cachetools<6.0,>=2.0.0 in /usr/local/lib/python3.10/dist-packages (from google-auth<3,>=1.6.3->tensorboard>=2.9.1->stable-baselines3[extra]) (5.3.3)\n",
            "Requirement already satisfied: pyasn1-modules>=0.2.1 in /usr/local/lib/python3.10/dist-packages (from google-auth<3,>=1.6.3->tensorboard>=2.9.1->stable-baselines3[extra]) (0.4.0)\n",
            "Requirement already satisfied: rsa<5,>=3.1.4 in /usr/local/lib/python3.10/dist-packages (from google-auth<3,>=1.6.3->tensorboard>=2.9.1->stable-baselines3[extra]) (4.9)\n",
            "Requirement already satisfied: requests-oauthlib>=0.7.0 in /usr/local/lib/python3.10/dist-packages (from google-auth-oauthlib<2,>=0.5->tensorboard>=2.9.1->stable-baselines3[extra]) (1.3.1)\n",
            "Requirement already satisfied: mdurl~=0.1 in /usr/local/lib/python3.10/dist-packages (from markdown-it-py>=2.2.0->rich->stable-baselines3[extra]) (0.1.2)\n",
            "Requirement already satisfied: charset-normalizer<4,>=2 in /usr/local/lib/python3.10/dist-packages (from requests->autorom[accept-rom-license]~=0.6.0->stable-baselines3[extra]) (3.3.2)\n",
            "Requirement already satisfied: idna<4,>=2.5 in /usr/local/lib/python3.10/dist-packages (from requests->autorom[accept-rom-license]~=0.6.0->stable-baselines3[extra]) (3.6)\n",
            "Requirement already satisfied: urllib3<3,>=1.21.1 in /usr/local/lib/python3.10/dist-packages (from requests->autorom[accept-rom-license]~=0.6.0->stable-baselines3[extra]) (2.0.7)\n",
            "Requirement already satisfied: certifi>=2017.4.17 in /usr/local/lib/python3.10/dist-packages (from requests->autorom[accept-rom-license]~=0.6.0->stable-baselines3[extra]) (2024.2.2)\n",
            "Requirement already satisfied: MarkupSafe>=2.1.1 in /usr/local/lib/python3.10/dist-packages (from werkzeug>=1.0.1->tensorboard>=2.9.1->stable-baselines3[extra]) (2.1.5)\n",
            "Requirement already satisfied: mpmath>=0.19 in /usr/local/lib/python3.10/dist-packages (from sympy->torch>=1.11->stable-baselines3[extra]) (1.3.0)\n",
            "Requirement already satisfied: pyasn1<0.7.0,>=0.4.6 in /usr/local/lib/python3.10/dist-packages (from pyasn1-modules>=0.2.1->google-auth<3,>=1.6.3->tensorboard>=2.9.1->stable-baselines3[extra]) (0.6.0)\n",
            "Requirement already satisfied: oauthlib>=3.0.0 in /usr/local/lib/python3.10/dist-packages (from requests-oauthlib>=0.7.0->google-auth-oauthlib<2,>=0.5->tensorboard>=2.9.1->stable-baselines3[extra]) (3.2.2)\n",
            "Requirement already satisfied: pyglet==1.5.27 in /usr/local/lib/python3.10/dist-packages (1.5.27)\n",
            "Requirement already satisfied: pyvirtualdisplay in /usr/local/lib/python3.10/dist-packages (3.0)\n"
          ]
        }
      ],
      "source": [
        "!pip install setuptools==65.5.0 \"wheel<0.40.0\"\n",
        "!pip install stable-baselines3[extra] ale-py==0.7.4 gym==0.21.0\n",
        "!pip install pyglet==1.5.27\n",
        "!pip install pyvirtualdisplay"
      ]
    },
    {
      "cell_type": "code",
      "execution_count": 82,
      "metadata": {
        "colab": {
          "base_uri": "https://localhost:8080/"
        },
        "id": "su-Sf4z3dwup",
        "outputId": "f79f9a71-2c35-412e-eae3-71d62a1f13a4"
      },
      "outputs": [
        {
          "output_type": "execute_result",
          "data": {
            "text/plain": [
              "<pyvirtualdisplay.display.Display at 0x7c040aa5ed40>"
            ]
          },
          "metadata": {},
          "execution_count": 82
        }
      ],
      "source": [
        "import os\n",
        "import random\n",
        "import numpy as np\n",
        "import torch\n",
        "import gym\n",
        "import numpy as np\n",
        "import matplotlib.pyplot as plt\n",
        "from IPython import display as ipythondisplay\n",
        "from pyvirtualdisplay import Display\n",
        "\n",
        "if type(os.environ.get(\"DISPLAY\")) is not str or len(os.environ.get(\"DISPLAY\")) == 0:\n",
        "    !apt-get -qq install -y xvfb\n",
        "    os.environ['DISPLAY'] = ':1'\n",
        "\n",
        "display = Display(visible=0, size=(400, 300))\n",
        "display.start()\n"
      ]
    },
    {
      "cell_type": "markdown",
      "metadata": {
        "id": "kM9mLGshmdmD"
      },
      "source": [
        "## Breakout\n",
        "\n",
        "This is an environment emulating the Atari game *Breakout*. The goal is to break all the bricks in the wall without letting the ball touch the floor. You have 5 lives and get points more points for higher brick than for the lower ones.\n",
        "\n",
        "The observation is an image with dimensions (210, 160, 3).\n",
        "\n",
        "There are 4 actions defined as NOOP, FIRE, LEFT and RIGHT.\n",
        "\n",
        "See full description [here](https://www.gymlibrary.dev/environments/atari/breakout/).\n",
        "\n",
        "\n"
      ]
    },
    {
      "cell_type": "code",
      "execution_count": 83,
      "metadata": {
        "id": "rRyG8rMWhwrp",
        "colab": {
          "base_uri": "https://localhost:8080/",
          "height": 741
        },
        "outputId": "509b95e3-eae5-4800-9fa8-25d752e36a17"
      },
      "outputs": [
        {
          "output_type": "stream",
          "name": "stdout",
          "text": [
            "observation dim (210, 160, 3) number of actions 4\n"
          ]
        },
        {
          "output_type": "display_data",
          "data": {
            "text/plain": [
              "<Figure size 1600x900 with 10 Axes>"
            ],
            "image/png": "[encoded data removed]"
          },
          "metadata": {}
        }
      ],
      "source": [
        "ENV_NAME = \"BreakoutNoFrameskip-v4\"\n",
        "env = gym.make(ENV_NAME)\n",
        "obs = env.reset()\n",
        "\n",
        "n_actions = env.action_space.n\n",
        "obs_dim = obs.shape\n",
        "print(\"observation dim\", obs_dim, \"number of actions\", n_actions)\n",
        "\n",
        "\n",
        "n_cols = 5\n",
        "n_rows = 2\n",
        "fig = plt.figure(figsize=(16, 9))\n",
        "\n",
        "for row in range(n_rows):\n",
        "    for col in range(n_cols):\n",
        "        ax = fig.add_subplot(n_rows, n_cols, row * n_cols + col + 1)\n",
        "        ax.imshow(obs)\n",
        "        ax.imshow(env.render('rgb_array'))\n",
        "        env.step(env.action_space.sample())\n",
        "plt.show()"
      ]
    },
    {
      "cell_type": "markdown",
      "metadata": {
        "id": "CBQL2MZB2j3N"
      },
      "source": [
        "## Wrappers\n",
        "\n",
        "In order to make the environment more suitable for RL training, we make the following updates to the environment, using environment wrappers:\n",
        "1. Preprocess the images to contain only the relevant part of the image, converted to grayscale. The raw images are large and we can do with 64x64 images.\n",
        "2. Concatenate the 4 previous images (in order to capture dynamics)\n",
        "3. Start the fire action automatically when starting the episode\n",
        "4. Repeat the same action for 4 time steps\n",
        "5. Output the maximum values of the last 2 frames per pixel (in order to prevent blinking)\n",
        "6. Ouput a \"done\" signal every time a life is reduced but only reset the environment when all lives are gone\n",
        "7. Bin the rewards to the values {-1, 0, 1}\n",
        "\n",
        "\n"
      ]
    },
    {
      "cell_type": "code",
      "execution_count": 84,
      "metadata": {
        "id": "dKk0se7Edwut"
      },
      "outputs": [],
      "source": [
        "from gym.core import Wrapper\n",
        "from gym.spaces.box import Box\n",
        "from gym.core import ObservationWrapper\n",
        "from gym.spaces import Box\n",
        "import cv2\n",
        "\n",
        "class PreprocessAtariObs(ObservationWrapper):\n",
        "    def __init__(self, env):\n",
        "        \"\"\"A gym wrapper that crops, scales image into the desired shapes and grayscales it.\"\"\"\n",
        "        ObservationWrapper.__init__(self, env)\n",
        "\n",
        "        self.img_size = (1, 64, 64)\n",
        "        self.observation_space = Box(0.0, 1.0, self.img_size)\n",
        "\n",
        "\n",
        "    def observation(self, img):\n",
        "        \"\"\"what happens to each observation\"\"\"\n",
        "\n",
        "        #  * crop image, remove irrelevant parts\n",
        "        #  * resize image to self.img_size\n",
        "        #  * cast image to grayscale\n",
        "        #  * convert image pixels to (0,1) range, float32 type\n",
        "        img = img[34:-16, 8:-8, :]\n",
        "        img = cv2.resize(img, self.img_size[1:])\n",
        "        img = (img*np.array([[[0.8, .1, .1]]])).sum(-1, keepdims=True)  # grayscale with more weight for red (accelerates training)\n",
        "        img = img.astype('float32') / 255.\n",
        "        return img.transpose((2, 0, 1))\n",
        "\n",
        "class MaxAndSkipEnv(gym.Wrapper):\n",
        "    def __init__(self, env, skip=4):\n",
        "        \"\"\"Return only every `skip`-th frame\"\"\"\n",
        "        gym.Wrapper.__init__(self, env)\n",
        "        # most recent raw observations (for max pooling across time steps)\n",
        "        self._obs_buffer = np.zeros(\n",
        "            (2,) + env.observation_space.shape, dtype=np.uint8)\n",
        "        self._skip = skip\n",
        "\n",
        "    def step(self, action):\n",
        "        \"\"\"Repeat action, sum reward, and max over last observations.\"\"\"\n",
        "        total_reward = 0.0\n",
        "        done = None\n",
        "        for i in range(self._skip):\n",
        "            obs, reward, done, info = self.env.step(action)\n",
        "            if i == self._skip - 2:\n",
        "                self._obs_buffer[0] = obs\n",
        "            if i == self._skip - 1:\n",
        "                self._obs_buffer[1] = obs\n",
        "            total_reward += reward\n",
        "            if done:\n",
        "                break\n",
        "        # Note that the observation on the done=True frame\n",
        "        # doesn't matter\n",
        "        max_frame = self._obs_buffer.max(axis=0)\n",
        "\n",
        "        return max_frame, total_reward, done, info\n",
        "\n",
        "    def reset(self, **kwargs):\n",
        "        return self.env.reset(**kwargs)\n",
        "\n",
        "class ClipRewardEnv(gym.RewardWrapper):\n",
        "    def __init__(self, env):\n",
        "        gym.RewardWrapper.__init__(self, env)\n",
        "\n",
        "    def reward(self, reward):\n",
        "        \"\"\"Bin reward to {+1, 0, -1} by its sign.\"\"\"\n",
        "        return np.sign(reward)\n",
        "\n",
        "class FireResetEnv(gym.Wrapper):\n",
        "    def __init__(self, env):\n",
        "        \"\"\"Take action on reset for environments that are fixed until firing.\"\"\"\n",
        "        gym.Wrapper.__init__(self, env)\n",
        "        assert env.unwrapped.get_action_meanings()[1] == 'FIRE'\n",
        "        assert len(env.unwrapped.get_action_meanings()) >= 3\n",
        "\n",
        "    def reset(self, **kwargs):\n",
        "        self.env.reset(**kwargs)\n",
        "        obs, _, done, _ = self.env.step(1)\n",
        "        if done:\n",
        "            self.env.reset(**kwargs)\n",
        "        obs, _, done, _ = self.env.step(2)\n",
        "        if done:\n",
        "            self.env.reset(**kwargs)\n",
        "        return obs\n",
        "\n",
        "    def step(self, ac):\n",
        "        return self.env.step(ac)\n",
        "\n",
        "class EpisodicLifeEnv(gym.Wrapper):\n",
        "    def __init__(self, env):\n",
        "        \"\"\"Make end-of-life == end-of-episode, but only reset on true game over.\n",
        "        Done by DeepMind for the DQN and co. since it helps value estimation.\n",
        "        \"\"\"\n",
        "        gym.Wrapper.__init__(self, env)\n",
        "        self.lives = 0\n",
        "        self.was_real_done = True\n",
        "\n",
        "    def step(self, action):\n",
        "        obs, reward, done, info = self.env.step(action)\n",
        "        self.was_real_done = done\n",
        "        # check current lives, make loss of life terminal,\n",
        "        # then update lives to handle bonus lives\n",
        "        lives = self.env.unwrapped.ale.lives()\n",
        "        if lives < self.lives and lives > 0:\n",
        "            # for Qbert sometimes we stay in lives == 0 condition for a few frames\n",
        "            # so it's important to keep lives > 0, so that we only reset once\n",
        "            # the environment advertises done.\n",
        "            done = True\n",
        "        self.lives = lives\n",
        "        return obs, reward, done, info\n",
        "\n",
        "    def reset(self, **kwargs):\n",
        "        \"\"\"Reset only when lives are exhausted.\n",
        "        This way all states are still reachable even though lives are episodic,\n",
        "        and the learner need not know about any of this behind-the-scenes.\n",
        "        \"\"\"\n",
        "        if self.was_real_done:\n",
        "            obs = self.env.reset(**kwargs)\n",
        "        else:\n",
        "            # no-op step to advance from terminal/lost life state\n",
        "            obs, _, _, _ = self.env.step(0)\n",
        "        self.lives = self.env.unwrapped.ale.lives()\n",
        "        return obs\n",
        "\n",
        "def PrimaryAtariWrap(env, clip_rewards=True):\n",
        "    assert 'NoFrameskip' in env.spec.id\n",
        "\n",
        "    # This wrapper holds the same action for <skip> frames and outputs\n",
        "    # the maximal pixel value of 2 last frames (to handle blinking\n",
        "    # in some envs)\n",
        "    env = MaxAndSkipEnv(env, skip=4)\n",
        "\n",
        "    # This wrapper sends done=True when each life is lost\n",
        "    # (not all the 5 lives that are givern by the game rules).\n",
        "    # It should make easier for the agent to understand that losing is bad.\n",
        "    env = EpisodicLifeEnv(env)\n",
        "\n",
        "    # This wrapper laucnhes the ball when an episode starts.\n",
        "    # Without it the agent has to learn this action, too.\n",
        "    # Actually it can but learning would take longer.\n",
        "    env = FireResetEnv(env)\n",
        "\n",
        "    # This wrapper transforms rewards to {-1, 0, 1} according to their sign\n",
        "    if clip_rewards:\n",
        "        env = ClipRewardEnv(env)\n",
        "\n",
        "    # This wrapper preprocesses observations\n",
        "    env = PreprocessAtariObs(env)\n",
        "    return env\n",
        "\n",
        "class FrameBuffer(Wrapper):\n",
        "    def __init__(self, env, n_frames=4, dim_order='tensorflow'):\n",
        "        \"\"\"A gym wrapper that reshapes, crops and scales image into the desired shapes\"\"\"\n",
        "        super(FrameBuffer, self).__init__(env)\n",
        "        self.dim_order = dim_order\n",
        "        if dim_order == 'tensorflow':\n",
        "            height, width, n_channels = env.observation_space.shape\n",
        "            obs_shape = [height, width, n_channels * n_frames]\n",
        "        elif dim_order == 'pytorch':\n",
        "            n_channels, height, width = env.observation_space.shape\n",
        "            obs_shape = [n_channels * n_frames, height, width]\n",
        "        else:\n",
        "            raise ValueError(\n",
        "                'dim_order should be \"tensorflow\" or \"pytorch\", got {}'.format(dim_order))\n",
        "        self.observation_space = Box(0.0, 1.0, obs_shape)\n",
        "        self.framebuffer = np.zeros(obs_shape, 'float32')\n",
        "\n",
        "    def reset(self):\n",
        "        \"\"\"resets breakout, returns initial frames\"\"\"\n",
        "        self.framebuffer = np.zeros_like(self.framebuffer)\n",
        "        self.update_buffer(self.env.reset())\n",
        "        return self.framebuffer\n",
        "\n",
        "    def step(self, action):\n",
        "        \"\"\"plays breakout for 1 step, returns frame buffer\"\"\"\n",
        "        new_img, reward, done, info = self.env.step(action)\n",
        "        self.update_buffer(new_img)\n",
        "        return self.framebuffer, reward, done, info\n",
        "\n",
        "    def update_buffer(self, img):\n",
        "        if self.dim_order == 'tensorflow':\n",
        "            offset = self.env.observation_space.shape[-1]\n",
        "            axis = -1\n",
        "            cropped_framebuffer = self.framebuffer[:, :, :-offset]\n",
        "        elif self.dim_order == 'pytorch':\n",
        "            offset = self.env.observation_space.shape[0]\n",
        "            axis = 0\n",
        "            cropped_framebuffer = self.framebuffer[:-offset]\n",
        "        self.framebuffer = np.concatenate(\n",
        "            [img, cropped_framebuffer], axis=axis)\n",
        "\n",
        "\n",
        "def make_env(clip_rewards=True, seed=None):\n",
        "    env = gym.make(ENV_NAME)  # create raw env\n",
        "    if seed is not None:\n",
        "        env.seed(seed)\n",
        "    env = PrimaryAtariWrap(env, clip_rewards)\n",
        "    env = FrameBuffer(env, n_frames=4, dim_order='pytorch')\n",
        "    return env\n",
        "\n",
        "env = make_env()\n",
        "env.reset()\n",
        "n_actions = env.action_space.n\n",
        "state_shape = env.observation_space.shape"
      ]
    },
    {
      "cell_type": "markdown",
      "metadata": {
        "id": "66W1FS5U8jK2"
      },
      "source": [
        "## Check observations under wrappers"
      ]
    },
    {
      "cell_type": "code",
      "execution_count": 85,
      "metadata": {
        "colab": {
          "base_uri": "https://localhost:8080/",
          "height": 0
        },
        "id": "LcXX_vMEdwut",
        "outputId": "67365caf-7f64-416b-88a9-92d2799421d3"
      },
      "outputs": [
        {
          "output_type": "display_data",
          "data": {
            "text/plain": [
              "<Figure size 1200x1000 with 1 Axes>"
            ],
            "image/png": "[encoded data removed]"
          },
          "metadata": {}
        },
        {
          "output_type": "display_data",
          "data": {
            "text/plain": [
              "<Figure size 1500x1500 with 1 Axes>"
            ],
            "image/png": "[encoded data removed]"
          },
          "metadata": {}
        },
        {
          "output_type": "display_data",
          "data": {
            "text/plain": [
              "<Figure size 1500x1500 with 1 Axes>"
            ],
            "image/png": "[encoded data removed]"
          },
          "metadata": {}
        }
      ],
      "source": [
        "for _ in range(12):\n",
        "    obs, _, _, _ = env.step(env.action_space.sample())\n",
        "\n",
        "plt.figure(figsize=[12,10])\n",
        "plt.title(\"Game image\")\n",
        "plt.imshow(env.render(\"rgb_array\"))\n",
        "plt.show()\n",
        "\n",
        "plt.figure(figsize=[15,15])\n",
        "plt.title(\"Agent observation (4 frames top to bottom)\")\n",
        "plt.imshow(obs.reshape([-1, state_shape[2]]), cmap='gray')\n",
        "obs, _, _, _ = env.step(env.action_space.sample())\n",
        "plt.figure(figsize=[15,15])\n",
        "plt.title(\"Agent observation (4 frames top to bottom)\")\n",
        "plt.imshow(obs.reshape([-1, state_shape[2]]), cmap='gray')\n",
        "plt.show()"
      ]
    },
    {
      "cell_type": "markdown",
      "metadata": {
        "id": "untiH-mtyFXn"
      },
      "source": [
        "## Random Agent\n",
        "\n",
        "Here we implement a random agent to use in the 'evaluate' function, that runs the agent through multiple epsiodes."
      ]
    },
    {
      "cell_type": "code",
      "execution_count": 87,
      "metadata": {
        "id": "LBA1qQHx-vsb"
      },
      "outputs": [],
      "source": [
        "class RandomAgent():\n",
        "    def __init__(self, n_actions):\n",
        "        self.n_actions = n_actions\n",
        "\n",
        "\n",
        "    def get_qvalues(self, states):\n",
        "        return np.random.normal(size=(1,self.n_actions,))\n",
        "\n",
        "    def sample_actions(self, qvalues):\n",
        "        return np.random.randint(self.n_actions, size=(1,))"
      ]
    },
    {
      "cell_type": "code",
      "execution_count": 88,
      "metadata": {
        "id": "7HGjUNw8dwuu"
      },
      "outputs": [],
      "source": [
        "def evaluate(env, agent, n_games=1, greedy=True, t_max=10000):\n",
        "    \"\"\" Plays n_games full games. If greedy, picks actions as argmax(qvalues). Returns mean reward. \"\"\"\n",
        "    rewards = []\n",
        "    for _ in range(n_games):\n",
        "        s = env.reset()\n",
        "        reward = 0\n",
        "        for _ in range(t_max):\n",
        "            qvalues = agent.get_qvalues(torch.from_numpy(s).unsqueeze(0)).squeeze(0).numpy()\n",
        "            action = qvalues.argmax(axis=-1) if greedy else agent.sample_actions(qvalues)[0]\n",
        "            s, r, done, _ = env.step(action)\n",
        "            reward += r\n",
        "            if done:\n",
        "              break\n",
        "\n",
        "        rewards.append(reward)\n",
        "    return np.mean(rewards)"
      ]
    },
    {
      "cell_type": "markdown",
      "metadata": {
        "id": "y7wQU2iVzVNl"
      },
      "source": [
        "## Assignment\n",
        "\n",
        "Implement a DQN agent that contains:\n",
        "1. A neural network that predicts the q-values for a given observation.\n",
        "2. An experience replay buffer where all transitions are added.\n",
        "3. A target Q-network that is formed by periodically copying the weights of the main Q-nework.\n",
        "\n",
        "You will also need to implement the training loop, and submit a figure showing the reward as a function of the training step, and a video showing an episode with the trained agent."
      ]
    },
    {
      "cell_type": "markdown",
      "metadata": {
        "id": "B7B5IRxF1vlc"
      },
      "source": [
        "### Agent and Training loop"
      ]
    },
    {
      "cell_type": "code",
      "execution_count": 89,
      "metadata": {
        "id": "zMnfLRgj-idh"
      },
      "outputs": [],
      "source": [
        "import torch\n",
        "import torch.nn as nn\n",
        "import torch.nn.functional as F\n",
        "from torch import Tensor\n",
        "from torch.optim import Adam\n",
        "import random\n",
        "from shutil import move\n",
        "import os\n",
        "from collections import deque\n",
        "n_actions = env.action_space.n"
      ]
    },
    {
      "cell_type": "code",
      "execution_count": 92,
      "metadata": {
        "id": "P45pTpSTMquh"
      },
      "outputs": [],
      "source": [
        "# Global parameters\n",
        "\n",
        "n_actions = env.action_space.n\n",
        "n_obs = 16384\n",
        "max_steps = 1000000\n",
        "batch_size = 32\n",
        "max_buffer_size = 80000\n",
        "discount = 0.99\n",
        "learning_rate = 0.00025\n",
        "tau = 0.0005\n",
        "\n",
        "epsilon = 1\n",
        "MIN_EPS = 0.1\n",
        "\n",
        "random_frames = 50000\n",
        "exploration_frames = 1000000\n",
        "\n",
        "device = torch.device(\"cuda:0\" if torch.cuda.is_available() else \"cpu\")\n"
      ]
    },
    {
      "cell_type": "code",
      "execution_count": 93,
      "metadata": {
        "id": "G1jsyVd_EVt1"
      },
      "outputs": [],
      "source": [
        "class DQN(nn.Module):\n",
        "\n",
        "  def __init__(self, n_obs , n_actions):\n",
        "    super(DQN, self).__init__()\n",
        "    self.conv1 = nn.Conv2d(4, 32, kernel_size=3, stride=2)\n",
        "    self.conv2 = nn.Conv2d(32, 64, kernel_size=3, stride=2)\n",
        "    self.conv3 = nn.Conv2d(64, 64, kernel_size=3, stride=2)\n",
        "    self.fc1 = nn.Linear(3136, 256)\n",
        "    self.fc2 = nn.Linear(256, n_actions)\n",
        "\n",
        "  def forward(self, x):\n",
        "    x = F.relu(self.conv1(x))\n",
        "    x = F.relu(self.conv2(x))\n",
        "    x = F.relu(self.conv3(x))\n",
        "    x = F.relu(self.fc1(x.view(x.size(0), -1)))\n",
        "\n",
        "    return self.fc2(x)"
      ]
    },
    {
      "cell_type": "code",
      "execution_count": 94,
      "metadata": {
        "id": "apZlVU9KGVEV"
      },
      "outputs": [],
      "source": [
        "class Agent:\n",
        "\n",
        "  def __init__(self, n_actions, epsilon):\n",
        "    self.n_actions = n_actions\n",
        "    self.epsilon = epsilon\n",
        "    self.policy_DQN = DQN(n_obs, n_actions).to(device)\n",
        "\n",
        "  def get_qvalues(self, states):\n",
        "    with torch.no_grad():\n",
        "      return self.policy_DQN(states)\n",
        "\n",
        "  def step(self, env_state):\n",
        "    rand = random.random()\n",
        "    state = torch.from_numpy(env_state).to(device)\n",
        "    if(rand < self.epsilon):\n",
        "      return np.random.randint(self.n_actions)\n",
        "    else:\n",
        "      with torch.no_grad():\n",
        "        return self.policy_DQN(state.unsqueeze(0)).squeeze(0).argmax(axis=-1).item()\n"
      ]
    },
    {
      "cell_type": "code",
      "execution_count": 95,
      "metadata": {
        "id": "EFfgfeY6KKZd"
      },
      "outputs": [],
      "source": [
        "class Train_Break_Out:\n",
        "\n",
        "  def __init__(self, env, n_obs, n_actions, device):\n",
        "    self.env = env\n",
        "    self.device = device\n",
        "    self.agent = Agent(n_actions, epsilon)\n",
        "\n",
        "    self.replay_buffer = []\n",
        "    self.index = 0\n",
        "    self.frames_cnt = 0\n",
        "    self.episodes_reward_list = []\n",
        "\n",
        "    self.target_DQN = DQN(n_obs, n_actions).to(device)\n",
        "    self.target_DQN.load_state_dict(self.agent.policy_DQN.state_dict())\n",
        "    self.optimizer = torch.optim.Adam(self.agent.policy_DQN.parameters(), lr=learning_rate)\n",
        "\n",
        "\n",
        "  def optimize(self):\n",
        "\n",
        "    if(batch_size > len(self.replay_buffer)):\n",
        "      return\n",
        "    experiences_buff = random.sample(self.replay_buffer, batch_size)\n",
        "\n",
        "    state_buff, Next_buff, action_buff, reward_buff, terminated_buff = zip(*experiences_buff)\n",
        "    state_buff = torch.FloatTensor((state_buff)).to(self.device)\n",
        "    action_buff = torch.Tensor(action_buff).unsqueeze(1).to(self.device)\n",
        "    reward_buff = torch.Tensor(reward_buff).to(self.device)\n",
        "    Next_buff = torch.FloatTensor((Next_buff)).to(self.device)\n",
        "    terminated_buff = torch.FloatTensor(terminated_buff).to(self.device)\n",
        "\n",
        "    with torch.no_grad():\n",
        "      next_q_vals = self.target_DQN(Next_buff)\n",
        "      y = reward_buff + discount * torch.max(next_q_vals, dim=1, keepdim=False)[0]\n",
        "      y = y * (1-terminated_buff) - terminated_buff\n",
        "\n",
        "    criterion = nn.HuberLoss()\n",
        "    loss = criterion(self.agent.policy_DQN(state_buff).gather(1, action_buff.long()).squeeze(1), y)\n",
        "    self.optimizer.zero_grad()\n",
        "    loss.backward()\n",
        "    self.optimizer.step()\n",
        "\n",
        "    target_net_state_dict = self.target_DQN.state_dict()\n",
        "    policy_net_state_dict = self.agent.policy_DQN.state_dict()\n",
        "\n",
        "    for key in policy_net_state_dict:\n",
        "      target_net_state_dict[key] = target_net_state_dict[key]*(1-tau) + policy_net_state_dict[key]* tau\n",
        "    self.target_DQN.load_state_dict(target_net_state_dict)\n",
        "\n",
        "\n",
        "  def train(self, num_episodes):\n",
        "    for episode in range(1, num_episodes + 1):\n",
        "      obs = self.env.reset()\n",
        "      total_reward  = 0\n",
        "      for _ in range(max_steps):\n",
        "        action = self.agent.step(obs)\n",
        "        next_state, reward, done, _ = self.env.step(action)\n",
        "        total_reward += reward\n",
        "\n",
        "        self.frames_cnt += 1\n",
        "        if(self.frames_cnt <= random_frames):\n",
        "          self.agent.epsilon = 1\n",
        "        elif(self.frames_cnt <= random_frames + exploration_frames):\n",
        "          self.agent.epsilon -= (1-MIN_EPS)/exploration_frames\n",
        "          self.agent.epsilon = max(self.agent.epsilon, MIN_EPS)\n",
        "\n",
        "        if(len(self.replay_buffer) < max_buffer_size):\n",
        "          self.replay_buffer.append((obs, next_state, torch.FloatTensor([[action]]).to(self.device), torch.FloatTensor([[reward]]).to(self.device), torch.FloatTensor([[done]]).to(self.device)))\n",
        "        else:\n",
        "          self.replay_buffer[self.index] = (obs, next_state, torch.FloatTensor([[action]]).to(self.device), torch.FloatTensor([[reward]]).to(self.device), torch.FloatTensor([[done]]).to(self.device))\n",
        "          self.index = (self.index + 1) % max_buffer_size\n",
        "\n",
        "        if(done == True):\n",
        "          break\n",
        "        obs = next_state\n",
        "\n",
        "      self.episodes_reward_list.append(total_reward)\n",
        "      #plot_rewards(self.episodes_reward_list)\n"
      ]
    },
    {
      "cell_type": "markdown",
      "metadata": {
        "id": "FEFGnZFa2j7z"
      },
      "source": [
        "### Execution of training loop and plot generation"
      ]
    },
    {
      "cell_type": "code",
      "execution_count": null,
      "metadata": {
        "id": "eUZPCQKcToeN"
      },
      "outputs": [],
      "source": [
        "# We are training our model with number of episodes 40000\n",
        "Train_model = Train_Break_Out(env, n_obs, n_actions, device)\n",
        "Train_model.train(40000)"
      ]
    },
    {
      "cell_type": "markdown",
      "metadata": {
        "id": "PODeHPGzybqB"
      },
      "source": [
        "## Video generation"
      ]
    },
    {
      "cell_type": "code",
      "execution_count": null,
      "metadata": {
        "id": "zRc35oKRdwuy"
      },
      "outputs": [],
      "source": [
        "# run sessions\n",
        "\n",
        "import gym.wrappers\n",
        "import sys\n",
        "from pathlib import Path\n",
        "from base64 import b64encode\n",
        "from IPython.display import HTML\n",
        "\n",
        "n_games = 5 # how many games to record\n",
        "agent = Agent(env.action_space.n)\n",
        "\n",
        "\n",
        "with gym.wrappers.Monitor(make_env(), directory=\"videos\", force=True) as env_monitor:\n",
        "    env_monitor.reset()\n",
        "    sessions = [evaluate(env_monitor, agent, n_games=5, greedy=True) for _ in range(10)]\n"
      ]
    },
    {
      "cell_type": "code",
      "execution_count": null,
      "metadata": {
        "id": "4mHjCuZuyliQ"
      },
      "outputs": [],
      "source": [
        "# show video\n",
        "\n",
        "video_paths = sorted([s for s in Path('videos').iterdir() if s.suffix == '.mp4'])\n",
        "video_path = video_paths[1]  # You can also try other indices (if n_games>1)\n",
        "\n",
        "if 'google.colab' in sys.modules:\n",
        "    # https://stackoverflow.com/a/57378660/1214547\n",
        "    with video_path.open('rb') as fp:\n",
        "        mp4 = fp.read()\n",
        "    data_url = 'data:video/mp4;base64,' + b64encode(mp4).decode()\n",
        "else:\n",
        "    data_url = str(video_path)\n",
        "\n",
        "HTML(\"\"\"\n",
        "<video width=\"640\" height=\"480\" controls>\n",
        "  <source src=\"{}\" type=\"video/mp4\">\n",
        "</video>\n",
        "\"\"\".format(data_url))"
      ]
    },
    {
      "cell_type": "markdown",
      "source": [
        "**Notes:**\n",
        "\n",
        "Because of that we don't have enough GPU to run our training in the model, and sometimes the training was stooped because of the lack of GPU, and the trainning takes many hours. We have created models that we have trained and after every certain amount of episodes we have saved oiur model and our parameters. So, in that way we can load the models and the parameters from the drive, and continue the training process..\n",
        "\n",
        "In addition, because of the same reason, we have created other notebook where we have loaded the trained model from drive, and then we have created the videos of the test as it was given in the notebook.. Therefore, we will attach links for the videos that our model has done.\n",
        "\n",
        "We have done our best that the graph will be as better as we could, with the limits of the GPU and other limits.."
      ],
      "metadata": {
        "id": "pLpvGMGjYVK3"
      }
    },
    {
      "cell_type": "markdown",
      "source": [
        "#The Outputs:\n",
        "The graph of the rewards over the episodes:\n",
        "![תמונה של WhatsApp‏ 2024-04-02 בשעה 21.52.46_85c35214.jpg](data:image/jpeg;base64,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)\n",
        "\n",
        "\n",
        "\n",
        "Links for the videos of our model:\n",
        "\n",
        "First video:\n",
        "https://youtube.com/shorts/uNPBAG_kQbE?feature=share\n",
        "\n",
        "Second video:\n",
        "https://youtube.com/shorts/W9FQZIPX8DA?si=sm00eUzDS_uKZhlB\n"
      ],
      "metadata": {
        "id": "6hSgpmFTbgsh"
      }
    }
  ],
  "metadata": {
    "colab": {
      "collapsed_sections": [
        "CBQL2MZB2j3N",
        "66W1FS5U8jK2"
      ],
      "provenance": []
    },
    "kernelspec": {
      "display_name": "Python 3",
      "name": "python3"
    },
    "language_info": {
      "name": "python"
    }
  },
  "nbformat": 4,
  "nbformat_minor": 0
}